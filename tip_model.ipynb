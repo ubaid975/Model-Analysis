{
 "cells": [
  {
   "cell_type": "code",
   "execution_count": 2,
   "id": "16d32055-85c1-4dad-be1b-d4127ddfc146",
   "metadata": {},
   "outputs": [],
   "source": [
    "import numpy as np \n",
    "import matplotlib.pyplot as plt\n",
    "import seaborn as sns\n",
    "import pandas as pd\n",
    "from sklearn.model_selection import train_test_split "
   ]
  },
  {
   "cell_type": "code",
   "execution_count": 11,
   "id": "5894d855-3403-40f4-b426-ede07c8794ba",
   "metadata": {},
   "outputs": [],
   "source": [
    "df=sns.load_dataset('tips')[['total_bill','tip']]"
   ]
  },
  {
   "cell_type": "code",
   "execution_count": 12,
   "id": "da11b33e-1ebe-412e-9457-f45168062844",
   "metadata": {},
   "outputs": [],
   "source": [
    "df.drop_duplicates(inplace=True)"
   ]
  },
  {
   "cell_type": "code",
   "execution_count": 21,
   "id": "09a4f4d7-e555-4369-9f71-47e2c520570c",
   "metadata": {},
   "outputs": [],
   "source": [
    "def remove_outlier(df,coloumn):\n",
    "    q1=np.percentile(df[coloumn],25)\n",
    "    q3=np.percentile(df[coloumn],75)\n",
    "    iqr=q3-q1\n",
    "    mini=q1-1.5*iqr\n",
    "    max=q3+1.5*iqr\n",
    "    return df[(df[coloumn]>=mini) & (df[coloumn]<=max)]"
   ]
  },
  {
   "cell_type": "code",
   "execution_count": 24,
   "id": "c3af9e73-6111-4720-be92-1ee6869eec73",
   "metadata": {},
   "outputs": [],
   "source": [
    "df=remove_outlier(df,'total_bill')"
   ]
  },
  {
   "cell_type": "code",
   "execution_count": 25,
   "id": "01f69265-41b2-4154-afac-880de7ffabac",
   "metadata": {},
   "outputs": [
    {
     "data": {
      "text/plain": [
       "<Axes: >"
      ]
     },
     "execution_count": 25,
     "metadata": {},
     "output_type": "execute_result"
    },
    {
     "data": {
      "image/png": "[encoded data removed]",
      "text/plain": [
       "<Figure size 640x480 with 1 Axes>"
      ]
     },
     "metadata": {},
     "output_type": "display_data"
    }
   ],
   "source": [
    "sns.boxplot(df['tip'])"
   ]
  },
  {
   "cell_type": "code",
   "execution_count": 26,
   "id": "4ee5ca45-794a-4976-adfd-c4d1946ffff4",
   "metadata": {},
   "outputs": [
    {
     "data": {
      "text/plain": [
       "<Axes: >"
      ]
     },
     "execution_count": 26,
     "metadata": {},
     "output_type": "execute_result"
    },
    {
     "data": {
      "image/png": "[encoded data removed]",
      "text/plain": [
       "<Figure size 640x480 with 1 Axes>"
      ]
     },
     "metadata": {},
     "output_type": "display_data"
    }
   ],
   "source": [
    "sns.boxplot(df['total_bill'])"
   ]
  },
  {
   "cell_type": "code",
   "execution_count": 60,
   "id": "245477d1-dbe9-4033-836b-0d979d0a8bbf",
   "metadata": {},
   "outputs": [],
   "source": [
    "from sklearn.linear_model import LinearRegression"
   ]
  },
  {
   "cell_type": "code",
   "execution_count": 61,
   "id": "a53f15d5-441c-4a44-af50-adb6d02ff6ac",
   "metadata": {},
   "outputs": [],
   "source": [
    "from sklearn.model_selection import train_test_split"
   ]
  },
  {
   "cell_type": "code",
   "execution_count": 62,
   "id": "9e644a5a-0f4a-443a-a339-675680b945b5",
   "metadata": {},
   "outputs": [],
   "source": [
    "x_train,y_train,x_test,y_test=train_test_split(df['total_bill'],df['tip'],test_size=0.2)"
   ]
  },
  {
   "cell_type": "code",
   "execution_count": 63,
   "id": "2ce759cc-036f-4832-ab69-7abd71073c4f",
   "metadata": {},
   "outputs": [],
   "source": [
    "lr=LinearRegression()"
   ]
  },
  {
   "cell_type": "code",
   "execution_count": 108,
   "id": "766c891b-59bb-449c-8ece-1c6a18cf4097",
   "metadata": {},
   "outputs": [
    {
     "data": {
      "text/html": [
       "<style>#sk-container-id-7 {color: black;background-color: white;}#sk-container-id-7 pre{padding: 0;}#sk-container-id-7 div.sk-toggleable {background-color: white;}#sk-container-id-7 label.sk-toggleable__label {cursor: pointer;display: block;width: 100%;margin-bottom: 0;padding: 0.3em;box-sizing: border-box;text-align: center;}#sk-container-id-7 label.sk-toggleable__label-arrow:before {content: \"▸\";float: left;margin-right: 0.25em;color: #696969;}#sk-container-id-7 label.sk-toggleable__label-arrow:hover:before {color: black;}#sk-container-id-7 div.sk-estimator:hover label.sk-toggleable__label-arrow:before {color: black;}#sk-container-id-7 div.sk-toggleable__content {max-height: 0;max-width: 0;overflow: hidden;text-align: left;background-color: #f0f8ff;}#sk-container-id-7 div.sk-toggleable__content pre {margin: 0.2em;color: black;border-radius: 0.25em;background-color: #f0f8ff;}#sk-container-id-7 input.sk-toggleable__control:checked~div.sk-toggleable__content {max-height: 200px;max-width: 100%;overflow: auto;}#sk-container-id-7 input.sk-toggleable__control:checked~label.sk-toggleable__label-arrow:before {content: \"▾\";}#sk-container-id-7 div.sk-estimator input.sk-toggleable__control:checked~label.sk-toggleable__label {background-color: #d4ebff;}#sk-container-id-7 div.sk-label input.sk-toggleable__control:checked~label.sk-toggleable__label {background-color: #d4ebff;}#sk-container-id-7 input.sk-hidden--visually {border: 0;clip: rect(1px 1px 1px 1px);clip: rect(1px, 1px, 1px, 1px);height: 1px;margin: -1px;overflow: hidden;padding: 0;position: absolute;width: 1px;}#sk-container-id-7 div.sk-estimator {font-family: monospace;background-color: #f0f8ff;border: 1px dotted black;border-radius: 0.25em;box-sizing: border-box;margin-bottom: 0.5em;}#sk-container-id-7 div.sk-estimator:hover {background-color: #d4ebff;}#sk-container-id-7 div.sk-parallel-item::after {content: \"\";width: 100%;border-bottom: 1px solid gray;flex-grow: 1;}#sk-container-id-7 div.sk-label:hover label.sk-toggleable__label {background-color: #d4ebff;}#sk-container-id-7 div.sk-serial::before {content: \"\";position: absolute;border-left: 1px solid gray;box-sizing: border-box;top: 0;bottom: 0;left: 50%;z-index: 0;}#sk-container-id-7 div.sk-serial {display: flex;flex-direction: column;align-items: center;background-color: white;padding-right: 0.2em;padding-left: 0.2em;position: relative;}#sk-container-id-7 div.sk-item {position: relative;z-index: 1;}#sk-container-id-7 div.sk-parallel {display: flex;align-items: stretch;justify-content: center;background-color: white;position: relative;}#sk-container-id-7 div.sk-item::before, #sk-container-id-7 div.sk-parallel-item::before {content: \"\";position: absolute;border-left: 1px solid gray;box-sizing: border-box;top: 0;bottom: 0;left: 50%;z-index: -1;}#sk-container-id-7 div.sk-parallel-item {display: flex;flex-direction: column;z-index: 1;position: relative;background-color: white;}#sk-container-id-7 div.sk-parallel-item:first-child::after {align-self: flex-end;width: 50%;}#sk-container-id-7 div.sk-parallel-item:last-child::after {align-self: flex-start;width: 50%;}#sk-container-id-7 div.sk-parallel-item:only-child::after {width: 0;}#sk-container-id-7 div.sk-dashed-wrapped {border: 1px dashed gray;margin: 0 0.4em 0.5em 0.4em;box-sizing: border-box;padding-bottom: 0.4em;background-color: white;}#sk-container-id-7 div.sk-label label {font-family: monospace;font-weight: bold;display: inline-block;line-height: 1.2em;}#sk-container-id-7 div.sk-label-container {text-align: center;}#sk-container-id-7 div.sk-container {/* jupyter's `normalize.less` sets `[hidden] { display: none; }` but bootstrap.min.css set `[hidden] { display: none !important; }` so we also need the `!important` here to be able to override the default hidden behavior on the sphinx rendered scikit-learn.org. See: https://github.com/scikit-learn/scikit-learn/issues/21755 */display: inline-block !important;position: relative;}#sk-container-id-7 div.sk-text-repr-fallback {display: none;}</style><div id=\"sk-container-id-7\" class=\"sk-top-container\"><div class=\"sk-text-repr-fallback\"><pre>LinearRegression()</pre><b>In a Jupyter environment, please rerun this cell to show the HTML representation or trust the notebook. <br />On GitHub, the HTML representation is unable to render, please try loading this page with nbviewer.org.</b></div><div class=\"sk-container\" hidden><div class=\"sk-item\"><div class=\"sk-estimator sk-toggleable\"><input class=\"sk-toggleable__control sk-hidden--visually\" id=\"sk-estimator-id-7\" type=\"checkbox\" checked><label for=\"sk-estimator-id-7\" class=\"sk-toggleable__label sk-toggleable__label-arrow\">LinearRegression</label><div class=\"sk-toggleable__content\"><pre>LinearRegression()</pre></div></div></div></div></div>"
      ],
      "text/plain": [
       "LinearRegression()"
      ]
     },
     "execution_count": 108,
     "metadata": {},
     "output_type": "execute_result"
    }
   ],
   "source": [
    "lr.fit(np.array([x_train]).reshape(181,1),np.array([x_test]).reshape(181,1))"
   ]
  },
  {
   "cell_type": "code",
   "execution_count": 109,
   "id": "ca27532c-8c0c-449c-a86d-6b5a7fb4479e",
   "metadata": {},
   "outputs": [
    {
     "data": {
      "text/plain": [
       "array([0.91699121])"
      ]
     },
     "execution_count": 109,
     "metadata": {},
     "output_type": "execute_result"
    }
   ],
   "source": [
    "lr.intercept_"
   ]
  },
  {
   "cell_type": "code",
   "execution_count": 79,
   "id": "2980679c-634e-4b62-ae6c-be4da566dda4",
   "metadata": {},
   "outputs": [
    {
     "data": {
      "text/plain": [
       "total_bill    12.03\n",
       "tip            1.50\n",
       "Name: 97, dtype: float64"
      ]
     },
     "execution_count": 79,
     "metadata": {},
     "output_type": "execute_result"
    }
   ],
   "source": [
    "df.iloc[93,:]"
   ]
  },
  {
   "cell_type": "code",
   "execution_count": 127,
   "id": "ee4dbf96-638d-450a-8fe1-fd23dee3694d",
   "metadata": {},
   "outputs": [
    {
     "data": {
      "text/plain": [
       "array([[1.8801552 ],\n",
       "       [2.95728519],\n",
       "       [2.80398579],\n",
       "       [2.67892576],\n",
       "       [1.97697588],\n",
       "       [1.75912936],\n",
       "       [1.9547878 ],\n",
       "       [2.46813908],\n",
       "       [4.22805653],\n",
       "       [1.64818901],\n",
       "       [2.32895936],\n",
       "       [2.35518163],\n",
       "       [3.08537087],\n",
       "       [2.55789991],\n",
       "       [3.15899493],\n",
       "       [1.80148841],\n",
       "       [3.49484164],\n",
       "       [3.26993528],\n",
       "       [3.50996987],\n",
       "       [2.88265259],\n",
       "       [4.82310025],\n",
       "       [2.25634386],\n",
       "       [2.77574643],\n",
       "       [2.76162675],\n",
       "       [2.63858381],\n",
       "       [2.43384843],\n",
       "       [3.18521719],\n",
       "       [3.39297822],\n",
       "       [3.92750902],\n",
       "       [2.06471961],\n",
       "       [4.12921876],\n",
       "       [2.59723331],\n",
       "       [2.99964424],\n",
       "       [2.71019077],\n",
       "       [2.14338641],\n",
       "       [2.2281045 ],\n",
       "       [3.66831201],\n",
       "       [2.94215696],\n",
       "       [3.46761082],\n",
       "       [2.8019687 ],\n",
       "       [1.4969067 ],\n",
       "       [2.69102834],\n",
       "       [2.73641303],\n",
       "       [3.3324653 ],\n",
       "       [1.95983055],\n",
       "       [4.41161239]])"
      ]
     },
     "execution_count": 127,
     "metadata": {},
     "output_type": "execute_result"
    }
   ],
   "source": [
    "lr.predict(np.array(y_train).reshape(46,1))"
   ]
  },
  {
   "cell_type": "code",
   "execution_count": 114,
   "id": "52591395-e689-4a03-958e-99b3301bb894",
   "metadata": {},
   "outputs": [],
   "source": [
    "from sklearn.metrics import accuracy_score"
   ]
  },
  {
   "cell_type": "code",
   "execution_count": 135,
   "id": "9d78e567-6ca7-419b-a575-416e8bf565d7",
   "metadata": {},
   "outputs": [
    {
     "data": {
      "text/plain": [
       "0.06641302551229034"
      ]
     },
     "execution_count": 135,
     "metadata": {},
     "output_type": "execute_result"
    }
   ],
   "source": [
    "lr.score(y_train.to_numpy().reshape(46,1),y_test.to_numpy().reshape(46,1))"
   ]
  },
  {
   "cell_type": "code",
   "execution_count": 139,
   "id": "3e10cb3c-1910-4677-a8e6-49448413722f",
   "metadata": {},
   "outputs": [
    {
     "data": {
      "text/html": [
       "<div>\n",
       "<style scoped>\n",
       "    .dataframe tbody tr th:only-of-type {\n",
       "        vertical-align: middle;\n",
       "    }\n",
       "\n",
       "    .dataframe tbody tr th {\n",
       "        vertical-align: top;\n",
       "    }\n",
       "\n",
       "    .dataframe thead th {\n",
       "        text-align: right;\n",
       "    }\n",
       "</style>\n",
       "<table border=\"1\" class=\"dataframe\">\n",
       "  <thead>\n",
       "    <tr style=\"text-align: right;\">\n",
       "      <th></th>\n",
       "      <th>total_bill</th>\n",
       "      <th>tip</th>\n",
       "    </tr>\n",
       "  </thead>\n",
       "  <tbody>\n",
       "    <tr>\n",
       "      <th>0</th>\n",
       "      <td>16.99</td>\n",
       "      <td>1.01</td>\n",
       "    </tr>\n",
       "    <tr>\n",
       "      <th>1</th>\n",
       "      <td>10.34</td>\n",
       "      <td>1.66</td>\n",
       "    </tr>\n",
       "    <tr>\n",
       "      <th>2</th>\n",
       "      <td>21.01</td>\n",
       "      <td>3.50</td>\n",
       "    </tr>\n",
       "    <tr>\n",
       "      <th>3</th>\n",
       "      <td>23.68</td>\n",
       "      <td>3.31</td>\n",
       "    </tr>\n",
       "    <tr>\n",
       "      <th>4</th>\n",
       "      <td>24.59</td>\n",
       "      <td>3.61</td>\n",
       "    </tr>\n",
       "  </tbody>\n",
       "</table>\n",
       "</div>"
      ],
      "text/plain": [
       "   total_bill   tip\n",
       "0       16.99  1.01\n",
       "1       10.34  1.66\n",
       "2       21.01  3.50\n",
       "3       23.68  3.31\n",
       "4       24.59  3.61"
      ]
     },
     "execution_count": 139,
     "metadata": {},
     "output_type": "execute_result"
    }
   ],
   "source": [
    "df.head()"
   ]
  },
  {
   "cell_type": "code",
   "execution_count": 147,
   "id": "3a7be55e-4e16-4860-81d1-6ae7924cc2f2",
   "metadata": {},
   "outputs": [
    {
     "data": {
      "text/plain": [
       "array([[2.63051542]])"
      ]
     },
     "execution_count": 147,
     "metadata": {},
     "output_type": "execute_result"
    }
   ],
   "source": [
    "lr.coef_*16.99+lr.intercept_"
   ]
  },
  {
   "cell_type": "code",
   "execution_count": 141,
   "id": "45c9aa36-5e11-4ddd-a12d-1bfc985bc9f8",
   "metadata": {},
   "outputs": [
    {
     "data": {
      "text/plain": [
       "array([[2.63051542]])"
      ]
     },
     "execution_count": 141,
     "metadata": {},
     "output_type": "execute_result"
    }
   ],
   "source": [
    "lr.predict([[16.99]])"
   ]
  },
  {
   "cell_type": "code",
   "execution_count": 142,
   "id": "ac1c5660-8921-495a-aee3-145665ab5543",
   "metadata": {},
   "outputs": [
    {
     "data": {
      "text/plain": [
       "array([0.91699121])"
      ]
     },
     "execution_count": 142,
     "metadata": {},
     "output_type": "execute_result"
    }
   ],
   "source": [
    "lr.intercept_"
   ]
  },
  {
   "cell_type": "code",
   "execution_count": 143,
   "id": "19e27dd9-739f-4c47-abdf-3f81a5429767",
   "metadata": {},
   "outputs": [
    {
     "data": {
      "text/plain": [
       "array([[0.10085487]])"
      ]
     },
     "execution_count": 143,
     "metadata": {},
     "output_type": "execute_result"
    }
   ],
   "source": [
    "lr.coef_"
   ]
  },
  {
   "cell_type": "code",
   "execution_count": 217,
   "id": "f597f850-cb72-4be2-a277-9882bfcf7ca3",
   "metadata": {},
   "outputs": [],
   "source": [
    "def model(total_bill):\n",
    "    pr=lr.predict([[total_bill]])\n",
    "    return f'your tip is',list(pr)[0][0]\n",
    "    \n",
    "    "
   ]
  },
  {
   "cell_type": "code",
   "execution_count": 221,
   "id": "56ea46f1-8e8f-4ac3-81d2-907f67067ec8",
   "metadata": {},
   "outputs": [
    {
     "data": {
      "text/plain": [
       "('your tip is', 1.9598305482545288)"
      ]
     },
     "execution_count": 221,
     "metadata": {},
     "output_type": "execute_result"
    }
   ],
   "source": [
    "model(10.34)"
   ]
  },
  {
   "cell_type": "code",
   "execution_count": 219,
   "id": "6e514b6d-a84a-4778-aee0-b7a9a2c7a2fb",
   "metadata": {},
   "outputs": [
    {
     "data": {
      "text/html": [
       "<div>\n",
       "<style scoped>\n",
       "    .dataframe tbody tr th:only-of-type {\n",
       "        vertical-align: middle;\n",
       "    }\n",
       "\n",
       "    .dataframe tbody tr th {\n",
       "        vertical-align: top;\n",
       "    }\n",
       "\n",
       "    .dataframe thead th {\n",
       "        text-align: right;\n",
       "    }\n",
       "</style>\n",
       "<table border=\"1\" class=\"dataframe\">\n",
       "  <thead>\n",
       "    <tr style=\"text-align: right;\">\n",
       "      <th></th>\n",
       "      <th>total_bill</th>\n",
       "      <th>tip</th>\n",
       "    </tr>\n",
       "  </thead>\n",
       "  <tbody>\n",
       "    <tr>\n",
       "      <th>0</th>\n",
       "      <td>16.99</td>\n",
       "      <td>1.01</td>\n",
       "    </tr>\n",
       "    <tr>\n",
       "      <th>1</th>\n",
       "      <td>10.34</td>\n",
       "      <td>1.66</td>\n",
       "    </tr>\n",
       "    <tr>\n",
       "      <th>2</th>\n",
       "      <td>21.01</td>\n",
       "      <td>3.50</td>\n",
       "    </tr>\n",
       "    <tr>\n",
       "      <th>3</th>\n",
       "      <td>23.68</td>\n",
       "      <td>3.31</td>\n",
       "    </tr>\n",
       "    <tr>\n",
       "      <th>4</th>\n",
       "      <td>24.59</td>\n",
       "      <td>3.61</td>\n",
       "    </tr>\n",
       "  </tbody>\n",
       "</table>\n",
       "</div>"
      ],
      "text/plain": [
       "   total_bill   tip\n",
       "0       16.99  1.01\n",
       "1       10.34  1.66\n",
       "2       21.01  3.50\n",
       "3       23.68  3.31\n",
       "4       24.59  3.61"
      ]
     },
     "execution_count": 219,
     "metadata": {},
     "output_type": "execute_result"
    }
   ],
   "source": [
    "df.head()"
   ]
  },
  {
   "cell_type": "code",
   "execution_count": 244,
   "id": "cab0b2f9-aa4b-4316-9733-4c2b2744cd78",
   "metadata": {},
   "outputs": [
    {
     "data": {
      "image/png": "[encoded data removed]",
      "text/plain": [
       "<Figure size 640x480 with 1 Axes>"
      ]
     },
     "metadata": {},
     "output_type": "display_data"
    }
   ],
   "source": [
    "sns.scatterplot(x=y_train,y=y_test)\n",
    "plt.plot(y_train,pred,color='r')\n",
    "plt.legend(['data','line'])\n",
    "plt.show()"
   ]
  },
  {
   "cell_type": "code",
   "execution_count": 228,
   "id": "8044ab7c-cc71-466c-ade2-7bd85adf0c9f",
   "metadata": {},
   "outputs": [],
   "source": [
    "pred=lr.predict(y_train.to_numpy().reshape(46,1))"
   ]
  },
  {
   "cell_type": "code",
   "execution_count": 224,
   "id": "dfde45ba-5cd4-4f53-a6b5-51ef32b03dcd",
   "metadata": {},
   "outputs": [
    {
     "data": {
      "text/plain": [
       "(46,)"
      ]
     },
     "execution_count": 224,
     "metadata": {},
     "output_type": "execute_result"
    }
   ],
   "source": [
    "y_train.shape"
   ]
  },
  {
   "cell_type": "code",
   "execution_count": 235,
   "id": "1e78961c-1a5a-43ba-8054-a98d0b68113d",
   "metadata": {},
   "outputs": [
    {
     "data": {
      "text/plain": [
       "array([[3.43836291]])"
      ]
     },
     "execution_count": 235,
     "metadata": {},
     "output_type": "execute_result"
    }
   ],
   "source": [
    "lr.predict([[25]])"
   ]
  },
  {
   "cell_type": "code",
   "execution_count": 248,
   "id": "0cca476e-56a8-443b-aeaa-12cc678e2d5c",
   "metadata": {},
   "outputs": [
    {
     "data": {
      "text/plain": [
       "('your tip is', 1.4212655536485732)"
      ]
     },
     "execution_count": 248,
     "metadata": {},
     "output_type": "execute_result"
    }
   ],
   "source": [
    "model(5)"
   ]
  },
  {
   "cell_type": "code",
   "execution_count": 249,
   "id": "e67aff4b-06f4-4843-91f5-7e821633327c",
   "metadata": {},
   "outputs": [
    {
     "data": {
      "text/plain": [
       "('your tip is', 1.9255398931672583)"
      ]
     },
     "execution_count": 249,
     "metadata": {},
     "output_type": "execute_result"
    }
   ],
   "source": [
    "model(10)"
   ]
  },
  {
   "cell_type": "code",
   "execution_count": 254,
   "id": "845db488-a32f-4615-afdc-d2986d407178",
   "metadata": {},
   "outputs": [],
   "source": [
    "from sklearn.metrics import mean_absolute_error,mean_squared_error,r2_score"
   ]
  },
  {
   "cell_type": "code",
   "execution_count": 251,
   "id": "0d0c14f7-fe0c-4141-9292-93ce62033704",
   "metadata": {},
   "outputs": [
    {
     "data": {
      "text/plain": [
       "0.754439697404581"
      ]
     },
     "execution_count": 251,
     "metadata": {},
     "output_type": "execute_result"
    }
   ],
   "source": [
    "mean_absolute_error(y_test,pred)"
   ]
  },
  {
   "cell_type": "code",
   "execution_count": 252,
   "id": "78fa7383-b657-437d-8e70-e4044553b30e",
   "metadata": {},
   "outputs": [
    {
     "data": {
      "text/plain": [
       "1.1104897495335613"
      ]
     },
     "execution_count": 252,
     "metadata": {},
     "output_type": "execute_result"
    }
   ],
   "source": [
    "mean_squared_error(y_test,pred)"
   ]
  },
  {
   "cell_type": "code",
   "execution_count": 253,
   "id": "1fc887d9-2127-4c27-98d0-89573aec05d8",
   "metadata": {},
   "outputs": [
    {
     "data": {
      "text/plain": [
       "1.053797774496398"
      ]
     },
     "execution_count": 253,
     "metadata": {},
     "output_type": "execute_result"
    }
   ],
   "source": [
    "np.sqrt(mean_squared_error(y_test,pred))"
   ]
  },
  {
   "cell_type": "code",
   "execution_count": 255,
   "id": "d3c8ed5b-5985-428b-8ca1-8938bfa7d88a",
   "metadata": {},
   "outputs": [
    {
     "data": {
      "text/plain": [
       "0.06641302551229034"
      ]
     },
     "execution_count": 255,
     "metadata": {},
     "output_type": "execute_result"
    }
   ],
   "source": [
    "r2_score(y_test,pred)"
   ]
  },
  {
   "cell_type": "code",
   "execution_count": 257,
   "id": "b6f07fd3-3ead-428f-8e40-bdec45823714",
   "metadata": {},
   "outputs": [],
   "source": [
    "from sklearn.linear_model import Lasso,Ridge"
   ]
  },
  {
   "cell_type": "code",
   "execution_count": 281,
   "id": "2c9dca4f-5d4f-487c-affc-8c8a234a4e69",
   "metadata": {},
   "outputs": [],
   "source": [
    "l=Lasso(alpha=5)"
   ]
  },
  {
   "cell_type": "code",
   "execution_count": 282,
   "id": "284cf1a8-8038-4a4a-87dc-dbee860d1ff8",
   "metadata": {},
   "outputs": [
    {
     "data": {
      "text/html": [
       "<style>#sk-container-id-10 {color: black;background-color: white;}#sk-container-id-10 pre{padding: 0;}#sk-container-id-10 div.sk-toggleable {background-color: white;}#sk-container-id-10 label.sk-toggleable__label {cursor: pointer;display: block;width: 100%;margin-bottom: 0;padding: 0.3em;box-sizing: border-box;text-align: center;}#sk-container-id-10 label.sk-toggleable__label-arrow:before {content: \"▸\";float: left;margin-right: 0.25em;color: #696969;}#sk-container-id-10 label.sk-toggleable__label-arrow:hover:before {color: black;}#sk-container-id-10 div.sk-estimator:hover label.sk-toggleable__label-arrow:before {color: black;}#sk-container-id-10 div.sk-toggleable__content {max-height: 0;max-width: 0;overflow: hidden;text-align: left;background-color: #f0f8ff;}#sk-container-id-10 div.sk-toggleable__content pre {margin: 0.2em;color: black;border-radius: 0.25em;background-color: #f0f8ff;}#sk-container-id-10 input.sk-toggleable__control:checked~div.sk-toggleable__content {max-height: 200px;max-width: 100%;overflow: auto;}#sk-container-id-10 input.sk-toggleable__control:checked~label.sk-toggleable__label-arrow:before {content: \"▾\";}#sk-container-id-10 div.sk-estimator input.sk-toggleable__control:checked~label.sk-toggleable__label {background-color: #d4ebff;}#sk-container-id-10 div.sk-label input.sk-toggleable__control:checked~label.sk-toggleable__label {background-color: #d4ebff;}#sk-container-id-10 input.sk-hidden--visually {border: 0;clip: rect(1px 1px 1px 1px);clip: rect(1px, 1px, 1px, 1px);height: 1px;margin: -1px;overflow: hidden;padding: 0;position: absolute;width: 1px;}#sk-container-id-10 div.sk-estimator {font-family: monospace;background-color: #f0f8ff;border: 1px dotted black;border-radius: 0.25em;box-sizing: border-box;margin-bottom: 0.5em;}#sk-container-id-10 div.sk-estimator:hover {background-color: #d4ebff;}#sk-container-id-10 div.sk-parallel-item::after {content: \"\";width: 100%;border-bottom: 1px solid gray;flex-grow: 1;}#sk-container-id-10 div.sk-label:hover label.sk-toggleable__label {background-color: #d4ebff;}#sk-container-id-10 div.sk-serial::before {content: \"\";position: absolute;border-left: 1px solid gray;box-sizing: border-box;top: 0;bottom: 0;left: 50%;z-index: 0;}#sk-container-id-10 div.sk-serial {display: flex;flex-direction: column;align-items: center;background-color: white;padding-right: 0.2em;padding-left: 0.2em;position: relative;}#sk-container-id-10 div.sk-item {position: relative;z-index: 1;}#sk-container-id-10 div.sk-parallel {display: flex;align-items: stretch;justify-content: center;background-color: white;position: relative;}#sk-container-id-10 div.sk-item::before, #sk-container-id-10 div.sk-parallel-item::before {content: \"\";position: absolute;border-left: 1px solid gray;box-sizing: border-box;top: 0;bottom: 0;left: 50%;z-index: -1;}#sk-container-id-10 div.sk-parallel-item {display: flex;flex-direction: column;z-index: 1;position: relative;background-color: white;}#sk-container-id-10 div.sk-parallel-item:first-child::after {align-self: flex-end;width: 50%;}#sk-container-id-10 div.sk-parallel-item:last-child::after {align-self: flex-start;width: 50%;}#sk-container-id-10 div.sk-parallel-item:only-child::after {width: 0;}#sk-container-id-10 div.sk-dashed-wrapped {border: 1px dashed gray;margin: 0 0.4em 0.5em 0.4em;box-sizing: border-box;padding-bottom: 0.4em;background-color: white;}#sk-container-id-10 div.sk-label label {font-family: monospace;font-weight: bold;display: inline-block;line-height: 1.2em;}#sk-container-id-10 div.sk-label-container {text-align: center;}#sk-container-id-10 div.sk-container {/* jupyter's `normalize.less` sets `[hidden] { display: none; }` but bootstrap.min.css set `[hidden] { display: none !important; }` so we also need the `!important` here to be able to override the default hidden behavior on the sphinx rendered scikit-learn.org. See: https://github.com/scikit-learn/scikit-learn/issues/21755 */display: inline-block !important;position: relative;}#sk-container-id-10 div.sk-text-repr-fallback {display: none;}</style><div id=\"sk-container-id-10\" class=\"sk-top-container\"><div class=\"sk-text-repr-fallback\"><pre>Lasso(alpha=5)</pre><b>In a Jupyter environment, please rerun this cell to show the HTML representation or trust the notebook. <br />On GitHub, the HTML representation is unable to render, please try loading this page with nbviewer.org.</b></div><div class=\"sk-container\" hidden><div class=\"sk-item\"><div class=\"sk-estimator sk-toggleable\"><input class=\"sk-toggleable__control sk-hidden--visually\" id=\"sk-estimator-id-10\" type=\"checkbox\" checked><label for=\"sk-estimator-id-10\" class=\"sk-toggleable__label sk-toggleable__label-arrow\">Lasso</label><div class=\"sk-toggleable__content\"><pre>Lasso(alpha=5)</pre></div></div></div></div></div>"
      ],
      "text/plain": [
       "Lasso(alpha=5)"
      ]
     },
     "execution_count": 282,
     "metadata": {},
     "output_type": "execute_result"
    }
   ],
   "source": [
    "l.fit(x_train,x_test)"
   ]
  },
  {
   "cell_type": "code",
   "execution_count": 283,
   "id": "81773beb-792b-4876-9a98-b0122479d64c",
   "metadata": {},
   "outputs": [
    {
     "data": {
      "text/plain": [
       "array([2.77176796, 2.77176796, 2.77176796, 2.77176796, 2.77176796,\n",
       "       2.77176796, 2.77176796, 2.77176796, 2.77176796, 2.77176796,\n",
       "       2.77176796, 2.77176796, 2.77176796, 2.77176796, 2.77176796,\n",
       "       2.77176796, 2.77176796, 2.77176796, 2.77176796, 2.77176796,\n",
       "       2.77176796, 2.77176796, 2.77176796, 2.77176796, 2.77176796,\n",
       "       2.77176796, 2.77176796, 2.77176796, 2.77176796, 2.77176796,\n",
       "       2.77176796, 2.77176796, 2.77176796, 2.77176796, 2.77176796,\n",
       "       2.77176796, 2.77176796, 2.77176796, 2.77176796, 2.77176796,\n",
       "       2.77176796, 2.77176796, 2.77176796, 2.77176796, 2.77176796,\n",
       "       2.77176796])"
      ]
     },
     "execution_count": 283,
     "metadata": {},
     "output_type": "execute_result"
    }
   ],
   "source": [
    "l.predict(y_train)"
   ]
  },
  {
   "cell_type": "code",
   "execution_count": 284,
   "id": "ac1603f0-5ffd-479d-ac7f-6023ad512c95",
   "metadata": {},
   "outputs": [
    {
     "data": {
      "text/plain": [
       "array([[1.45],\n",
       "       [2.01],\n",
       "       [4.  ],\n",
       "       [3.5 ],\n",
       "       [1.25],\n",
       "       [1.5 ],\n",
       "       [2.6 ],\n",
       "       [3.  ],\n",
       "       [1.17],\n",
       "       [5.15],\n",
       "       [3.  ],\n",
       "       [2.5 ],\n",
       "       [3.5 ],\n",
       "       [2.5 ],\n",
       "       [5.  ],\n",
       "       [2.  ],\n",
       "       [4.34],\n",
       "       [5.65],\n",
       "       [4.  ],\n",
       "       [3.51],\n",
       "       [3.  ],\n",
       "       [2.72],\n",
       "       [3.  ],\n",
       "       [3.76],\n",
       "       [3.  ],\n",
       "       [1.96],\n",
       "       [3.5 ],\n",
       "       [2.  ],\n",
       "       [5.14],\n",
       "       [2.  ],\n",
       "       [3.18],\n",
       "       [3.4 ],\n",
       "       [3.35],\n",
       "       [3.27],\n",
       "       [2.2 ],\n",
       "       [2.  ],\n",
       "       [4.  ],\n",
       "       [3.15],\n",
       "       [4.71],\n",
       "       [2.31],\n",
       "       [1.  ],\n",
       "       [2.64],\n",
       "       [3.  ],\n",
       "       [2.55],\n",
       "       [2.  ],\n",
       "       [3.68]])"
      ]
     },
     "execution_count": 284,
     "metadata": {},
     "output_type": "execute_result"
    }
   ],
   "source": [
    "y_test"
   ]
  },
  {
   "cell_type": "code",
   "execution_count": 264,
   "id": "5ba5ab2a-e020-4f51-b5b8-f9888185c456",
   "metadata": {},
   "outputs": [],
   "source": [
    "x_test=x_test.to_numpy().reshape(181,1)"
   ]
  },
  {
   "cell_type": "code",
   "execution_count": 272,
   "id": "3e1f199b-7127-4275-8098-5373601bc93b",
   "metadata": {},
   "outputs": [],
   "source": [
    "y_test=y_test.to_numpy().reshape(46,1)"
   ]
  },
  {
   "cell_type": "code",
   "execution_count": 273,
   "id": "4feb352c-cbfe-463d-bf00-dd485a8840e8",
   "metadata": {},
   "outputs": [],
   "source": [
    "y_train=y_train.to_numpy().reshape(46,1)"
   ]
  },
  {
   "cell_type": "code",
   "execution_count": 285,
   "id": "474dd721-2688-40a5-bfb4-2ad9d33385df",
   "metadata": {},
   "outputs": [
    {
     "data": {
      "text/plain": [
       "-0.04505216150844227"
      ]
     },
     "execution_count": 285,
     "metadata": {},
     "output_type": "execute_result"
    }
   ],
   "source": [
    "l.score(y_train,y_test)"
   ]
  },
  {
   "cell_type": "code",
   "execution_count": 286,
   "id": "2892082a-75fa-40e1-8b70-a5fd7c3f729c",
   "metadata": {},
   "outputs": [],
   "source": [
    "r=Ridge()"
   ]
  },
  {
   "cell_type": "code",
   "execution_count": 287,
   "id": "7f748ffe-c86d-4f8a-8104-a954f5364632",
   "metadata": {},
   "outputs": [
    {
     "data": {
      "text/html": [
       "<style>#sk-container-id-11 {color: black;background-color: white;}#sk-container-id-11 pre{padding: 0;}#sk-container-id-11 div.sk-toggleable {background-color: white;}#sk-container-id-11 label.sk-toggleable__label {cursor: pointer;display: block;width: 100%;margin-bottom: 0;padding: 0.3em;box-sizing: border-box;text-align: center;}#sk-container-id-11 label.sk-toggleable__label-arrow:before {content: \"▸\";float: left;margin-right: 0.25em;color: #696969;}#sk-container-id-11 label.sk-toggleable__label-arrow:hover:before {color: black;}#sk-container-id-11 div.sk-estimator:hover label.sk-toggleable__label-arrow:before {color: black;}#sk-container-id-11 div.sk-toggleable__content {max-height: 0;max-width: 0;overflow: hidden;text-align: left;background-color: #f0f8ff;}#sk-container-id-11 div.sk-toggleable__content pre {margin: 0.2em;color: black;border-radius: 0.25em;background-color: #f0f8ff;}#sk-container-id-11 input.sk-toggleable__control:checked~div.sk-toggleable__content {max-height: 200px;max-width: 100%;overflow: auto;}#sk-container-id-11 input.sk-toggleable__control:checked~label.sk-toggleable__label-arrow:before {content: \"▾\";}#sk-container-id-11 div.sk-estimator input.sk-toggleable__control:checked~label.sk-toggleable__label {background-color: #d4ebff;}#sk-container-id-11 div.sk-label input.sk-toggleable__control:checked~label.sk-toggleable__label {background-color: #d4ebff;}#sk-container-id-11 input.sk-hidden--visually {border: 0;clip: rect(1px 1px 1px 1px);clip: rect(1px, 1px, 1px, 1px);height: 1px;margin: -1px;overflow: hidden;padding: 0;position: absolute;width: 1px;}#sk-container-id-11 div.sk-estimator {font-family: monospace;background-color: #f0f8ff;border: 1px dotted black;border-radius: 0.25em;box-sizing: border-box;margin-bottom: 0.5em;}#sk-container-id-11 div.sk-estimator:hover {background-color: #d4ebff;}#sk-container-id-11 div.sk-parallel-item::after {content: \"\";width: 100%;border-bottom: 1px solid gray;flex-grow: 1;}#sk-container-id-11 div.sk-label:hover label.sk-toggleable__label {background-color: #d4ebff;}#sk-container-id-11 div.sk-serial::before {content: \"\";position: absolute;border-left: 1px solid gray;box-sizing: border-box;top: 0;bottom: 0;left: 50%;z-index: 0;}#sk-container-id-11 div.sk-serial {display: flex;flex-direction: column;align-items: center;background-color: white;padding-right: 0.2em;padding-left: 0.2em;position: relative;}#sk-container-id-11 div.sk-item {position: relative;z-index: 1;}#sk-container-id-11 div.sk-parallel {display: flex;align-items: stretch;justify-content: center;background-color: white;position: relative;}#sk-container-id-11 div.sk-item::before, #sk-container-id-11 div.sk-parallel-item::before {content: \"\";position: absolute;border-left: 1px solid gray;box-sizing: border-box;top: 0;bottom: 0;left: 50%;z-index: -1;}#sk-container-id-11 div.sk-parallel-item {display: flex;flex-direction: column;z-index: 1;position: relative;background-color: white;}#sk-container-id-11 div.sk-parallel-item:first-child::after {align-self: flex-end;width: 50%;}#sk-container-id-11 div.sk-parallel-item:last-child::after {align-self: flex-start;width: 50%;}#sk-container-id-11 div.sk-parallel-item:only-child::after {width: 0;}#sk-container-id-11 div.sk-dashed-wrapped {border: 1px dashed gray;margin: 0 0.4em 0.5em 0.4em;box-sizing: border-box;padding-bottom: 0.4em;background-color: white;}#sk-container-id-11 div.sk-label label {font-family: monospace;font-weight: bold;display: inline-block;line-height: 1.2em;}#sk-container-id-11 div.sk-label-container {text-align: center;}#sk-container-id-11 div.sk-container {/* jupyter's `normalize.less` sets `[hidden] { display: none; }` but bootstrap.min.css set `[hidden] { display: none !important; }` so we also need the `!important` here to be able to override the default hidden behavior on the sphinx rendered scikit-learn.org. See: https://github.com/scikit-learn/scikit-learn/issues/21755 */display: inline-block !important;position: relative;}#sk-container-id-11 div.sk-text-repr-fallback {display: none;}</style><div id=\"sk-container-id-11\" class=\"sk-top-container\"><div class=\"sk-text-repr-fallback\"><pre>Ridge()</pre><b>In a Jupyter environment, please rerun this cell to show the HTML representation or trust the notebook. <br />On GitHub, the HTML representation is unable to render, please try loading this page with nbviewer.org.</b></div><div class=\"sk-container\" hidden><div class=\"sk-item\"><div class=\"sk-estimator sk-toggleable\"><input class=\"sk-toggleable__control sk-hidden--visually\" id=\"sk-estimator-id-11\" type=\"checkbox\" checked><label for=\"sk-estimator-id-11\" class=\"sk-toggleable__label sk-toggleable__label-arrow\">Ridge</label><div class=\"sk-toggleable__content\"><pre>Ridge()</pre></div></div></div></div></div>"
      ],
      "text/plain": [
       "Ridge()"
      ]
     },
     "execution_count": 287,
     "metadata": {},
     "output_type": "execute_result"
    }
   ],
   "source": [
    "r.fit(x_train,x_test)"
   ]
  },
  {
   "cell_type": "code",
   "execution_count": 288,
   "id": "11da8c7c-5df6-4435-9d6d-9cd9b24e6fec",
   "metadata": {},
   "outputs": [
    {
     "data": {
      "text/plain": [
       "array([[1.8802552 ],\n",
       "       [2.95726439],\n",
       "       [2.80398218],\n",
       "       [2.67893617],\n",
       "       [1.97706502],\n",
       "       [1.75924293],\n",
       "       [1.95487943],\n",
       "       [2.46817314],\n",
       "       [4.2278932 ],\n",
       "       [1.64831502],\n",
       "       [2.32900903],\n",
       "       [2.35522835],\n",
       "       [3.0853357 ],\n",
       "       [2.5579239 ],\n",
       "       [3.1589515 ],\n",
       "       [1.80159723],\n",
       "       [3.49476054],\n",
       "       [3.26987941],\n",
       "       [3.50988708],\n",
       "       [2.88264015],\n",
       "       [4.82287018],\n",
       "       [2.25640167],\n",
       "       [2.77574598],\n",
       "       [2.76162789],\n",
       "       [2.63859875],\n",
       "       [2.43388633],\n",
       "       [3.18517082],\n",
       "       [3.39290855],\n",
       "       [3.9273794 ],\n",
       "       [2.06479891],\n",
       "       [4.12906651],\n",
       "       [2.59725289],\n",
       "       [2.99961868],\n",
       "       [2.71019767],\n",
       "       [2.14345688],\n",
       "       [2.22816547],\n",
       "       [3.66821146],\n",
       "       [2.94213785],\n",
       "       [3.46753278],\n",
       "       [2.80196531],\n",
       "       [1.49704969],\n",
       "       [2.6910374 ],\n",
       "       [2.736417  ],\n",
       "       [3.33240242],\n",
       "       [1.95992161],\n",
       "       [4.41142847]])"
      ]
     },
     "execution_count": 288,
     "metadata": {},
     "output_type": "execute_result"
    }
   ],
   "source": [
    "r.predict(y_train)"
   ]
  },
  {
   "cell_type": "code",
   "execution_count": 289,
   "id": "7672f7c1-6119-40df-8681-ba4ad32a8f14",
   "metadata": {},
   "outputs": [
    {
     "data": {
      "text/plain": [
       "array([[1.45],\n",
       "       [2.01],\n",
       "       [4.  ],\n",
       "       [3.5 ],\n",
       "       [1.25],\n",
       "       [1.5 ],\n",
       "       [2.6 ],\n",
       "       [3.  ],\n",
       "       [1.17],\n",
       "       [5.15],\n",
       "       [3.  ],\n",
       "       [2.5 ],\n",
       "       [3.5 ],\n",
       "       [2.5 ],\n",
       "       [5.  ],\n",
       "       [2.  ],\n",
       "       [4.34],\n",
       "       [5.65],\n",
       "       [4.  ],\n",
       "       [3.51],\n",
       "       [3.  ],\n",
       "       [2.72],\n",
       "       [3.  ],\n",
       "       [3.76],\n",
       "       [3.  ],\n",
       "       [1.96],\n",
       "       [3.5 ],\n",
       "       [2.  ],\n",
       "       [5.14],\n",
       "       [2.  ],\n",
       "       [3.18],\n",
       "       [3.4 ],\n",
       "       [3.35],\n",
       "       [3.27],\n",
       "       [2.2 ],\n",
       "       [2.  ],\n",
       "       [4.  ],\n",
       "       [3.15],\n",
       "       [4.71],\n",
       "       [2.31],\n",
       "       [1.  ],\n",
       "       [2.64],\n",
       "       [3.  ],\n",
       "       [2.55],\n",
       "       [2.  ],\n",
       "       [3.68]])"
      ]
     },
     "execution_count": 289,
     "metadata": {},
     "output_type": "execute_result"
    }
   ],
   "source": [
    "y_test"
   ]
  },
  {
   "cell_type": "code",
   "execution_count": 290,
   "id": "14d59b49-d965-4d6d-be92-1bf2ab407b3a",
   "metadata": {},
   "outputs": [
    {
     "data": {
      "text/plain": [
       "0.06645340875063954"
      ]
     },
     "execution_count": 290,
     "metadata": {},
     "output_type": "execute_result"
    }
   ],
   "source": [
    "r.score(y_train,y_test)"
   ]
  },
  {
   "cell_type": "code",
   "execution_count": 291,
   "id": "3922826a-b369-4b4a-bf61-1edfda3fb4f2",
   "metadata": {},
   "outputs": [],
   "source": [
    "a=[1,2,3,4,5]"
   ]
  },
  {
   "cell_type": "code",
   "execution_count": 344,
   "id": "4b2cf7b7-9d16-4c0c-9154-ad471142fc10",
   "metadata": {},
   "outputs": [],
   "source": [
    "max=a[1]"
   ]
  },
  {
   "cell_type": "code",
   "execution_count": 335,
   "id": "5d8ffadf-ec3b-4157-b754-0efd8c30582f",
   "metadata": {},
   "outputs": [
    {
     "name": "stdout",
     "output_type": "stream",
     "text": [
      "3\n",
      "4\n",
      "5\n"
     ]
    }
   ],
   "source": [
    "for i in a:\n",
    "    if i>max:\n",
    "        print(i)\n",
    "    else:\n",
    "        max"
   ]
  },
  {
   "cell_type": "code",
   "execution_count": null,
   "id": "332ee7c7-e265-42c6-9ad0-996cececf221",
   "metadata": {},
   "outputs": [],
   "source": []
  },
  {
   "cell_type": "code",
   "execution_count": null,
   "id": "689c1fb4-4389-4e76-98db-131ce4c2c601",
   "metadata": {},
   "outputs": [],
   "source": []
  }
 ],
 "metadata": {
  "kernelspec": {
   "display_name": "Python 3 (ipykernel)",
   "language": "python",
   "name": "python3"
  },
  "language_info": {
   "codemirror_mode": {
    "name": "ipython",
    "version": 3
   },
   "file_extension": ".py",
   "mimetype": "text/x-python",
   "name": "python",
   "nbconvert_exporter": "python",
   "pygments_lexer": "ipython3",
   "version": "3.11.7"
  }
 },
 "nbformat": 4,
 "nbformat_minor": 5
}
